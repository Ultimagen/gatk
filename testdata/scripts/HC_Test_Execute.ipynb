{
 "cells": [
  {
   "cell_type": "code",
   "execution_count": 12,
   "metadata": {},
   "outputs": [
    {
     "name": "stdout",
     "output_type": "stream",
     "text": [
      "Running test1-collapse10m over chr20:6000000-7000000 opts --ultima-assembly-collapse-hmer-size 10 --ultima-flow-matrix-mods 8,10,9,10,11,10,12,10\n",
      "\n",
      "            ../../gatk HaplotypeCaller -R ../ref/Homo_sapiens_assembly38.fasta -I data/chr20.flow.bam -intervals chr20:6000000-7000000             --likelihood-calculation-engine FlowBased             --bam-writer-type ALL_POSSIBLE_HAPLOTYPES --debug-assembly false             -O output/test1/collapse10m/test1-collapse10m.vcf             --bam-output output/test1/collapse10m/test1-collapse10m.bam             --ultima-assembly-collapse-hmer-size 10 --ultima-flow-matrix-mods 8,10,9,10,11,10,12,10     \n",
      "17:52:03.158 INFO  ProgressMeter - Starting traversal\n",
      "17:52:03.159 INFO  ProgressMeter -        Current Locus  Elapsed Minutes     Regions Processed   Regions/Minute\n",
      "17:52:14.194 INFO  ProgressMeter -        chr20:6018361              0.2                   140            761.2\n"
     ]
    },
    {
     "ename": "KeyboardInterrupt",
     "evalue": "",
     "output_type": "error",
     "traceback": [
      "\u001b[0;31m---------------------------------------------------------------------------\u001b[0m",
      "\u001b[0;31mKeyboardInterrupt\u001b[0m                         Traceback (most recent call last)",
      "\u001b[0;32m<ipython-input-12-02889e6921af>\u001b[0m in \u001b[0;36m<module>\u001b[0;34m\u001b[0m\n\u001b[1;32m     75\u001b[0m \u001b[0;34m\u001b[0m\u001b[0m\n\u001b[1;32m     76\u001b[0m     \u001b[0mHaplotypeCaller\u001b[0m\u001b[0;34m(\u001b[0m\u001b[0mINTERVALS\u001b[0m\u001b[0;34m,\u001b[0m \u001b[0;34m\"test1\"\u001b[0m\u001b[0;34m,\u001b[0m \u001b[0;34m\"collapse10\"\u001b[0m\u001b[0;34m,\u001b[0m \u001b[0;34m\"--ultima-assembly-collapse-hmer-size 10\"\u001b[0m\u001b[0;34m)\u001b[0m\u001b[0;34m\u001b[0m\u001b[0;34m\u001b[0m\u001b[0m\n\u001b[0;32m---> 77\u001b[0;31m     \u001b[0mHaplotypeCaller\u001b[0m\u001b[0;34m(\u001b[0m\u001b[0mINTERVALS\u001b[0m\u001b[0;34m,\u001b[0m \u001b[0;34m\"test1\"\u001b[0m\u001b[0;34m,\u001b[0m \u001b[0;34m\"collapse10m\"\u001b[0m\u001b[0;34m,\u001b[0m \u001b[0;34m\"--ultima-assembly-collapse-hmer-size 10 --ultima-flow-matrix-mods 8,10,9,10,11,10,12,10\"\u001b[0m\u001b[0;34m)\u001b[0m\u001b[0;34m\u001b[0m\u001b[0;34m\u001b[0m\u001b[0m\n\u001b[0m\u001b[1;32m     78\u001b[0m \u001b[0;34m\u001b[0m\u001b[0m\n",
      "\u001b[0;32m<ipython-input-12-02889e6921af>\u001b[0m in \u001b[0;36mHaplotypeCaller\u001b[0;34m(intervals, test, tver, opts)\u001b[0m\n\u001b[1;32m     46\u001b[0m     \u001b[0mprint\u001b[0m\u001b[0;34m(\u001b[0m\u001b[0mcmd\u001b[0m\u001b[0;34m)\u001b[0m\u001b[0;34m\u001b[0m\u001b[0;34m\u001b[0m\u001b[0m\n\u001b[1;32m     47\u001b[0m     \u001b[0;32mwith\u001b[0m \u001b[0msubprocess\u001b[0m\u001b[0;34m.\u001b[0m\u001b[0mPopen\u001b[0m\u001b[0;34m(\u001b[0m\u001b[0mcmd\u001b[0m\u001b[0;34m,\u001b[0m \u001b[0mstdout\u001b[0m\u001b[0;34m=\u001b[0m\u001b[0msubprocess\u001b[0m\u001b[0;34m.\u001b[0m\u001b[0mPIPE\u001b[0m\u001b[0;34m,\u001b[0m \u001b[0mstderr\u001b[0m\u001b[0;34m=\u001b[0m\u001b[0msubprocess\u001b[0m\u001b[0;34m.\u001b[0m\u001b[0mSTDOUT\u001b[0m\u001b[0;34m,\u001b[0m \u001b[0mshell\u001b[0m\u001b[0;34m=\u001b[0m\u001b[0;32mTrue\u001b[0m\u001b[0;34m)\u001b[0m \u001b[0;32mas\u001b[0m \u001b[0mproc\u001b[0m\u001b[0;34m:\u001b[0m\u001b[0;34m\u001b[0m\u001b[0;34m\u001b[0m\u001b[0m\n\u001b[0;32m---> 48\u001b[0;31m         \u001b[0;32mfor\u001b[0m \u001b[0mline\u001b[0m \u001b[0;32min\u001b[0m \u001b[0mio\u001b[0m\u001b[0;34m.\u001b[0m\u001b[0mTextIOWrapper\u001b[0m\u001b[0;34m(\u001b[0m\u001b[0mproc\u001b[0m\u001b[0;34m.\u001b[0m\u001b[0mstdout\u001b[0m\u001b[0;34m,\u001b[0m \u001b[0mencoding\u001b[0m\u001b[0;34m=\u001b[0m\u001b[0;34m\"utf-8\"\u001b[0m\u001b[0;34m)\u001b[0m\u001b[0;34m:\u001b[0m\u001b[0;34m\u001b[0m\u001b[0;34m\u001b[0m\u001b[0m\n\u001b[0m\u001b[1;32m     49\u001b[0m             \u001b[0mlines\u001b[0m\u001b[0;34m.\u001b[0m\u001b[0mappend\u001b[0m\u001b[0;34m(\u001b[0m\u001b[0mline\u001b[0m\u001b[0;34m)\u001b[0m\u001b[0;34m\u001b[0m\u001b[0;34m\u001b[0m\u001b[0m\n\u001b[1;32m     50\u001b[0m             \u001b[0;32mif\u001b[0m \u001b[0;34m\"ProgressMeter\"\u001b[0m \u001b[0;32min\u001b[0m \u001b[0mline\u001b[0m\u001b[0;34m:\u001b[0m\u001b[0;34m\u001b[0m\u001b[0;34m\u001b[0m\u001b[0m\n",
      "\u001b[0;31mKeyboardInterrupt\u001b[0m: "
     ]
    }
   ],
   "source": [
    "import os\n",
    "import subprocess\n",
    "import io\n",
    "import pprint\n",
    "import json\n",
    "import pandas as pd\n",
    "\n",
    "# operations\n",
    "OP_ANAL=True\n",
    "OP_TVER_ONLY=\"collapse10m\"\n",
    "\n",
    "# globals\n",
    "GATK=\"../../gatk\"\n",
    "OUT=\"output\"\n",
    "READS=\"data/chr20.flow.bam\"\n",
    "REF=\"../ref/Homo_sapiens_assembly38.fasta\"\n",
    "INTERVALS=\"chr20:6000000-7000000\"\n",
    "\n",
    "# functions\n",
    "def HaplotypeCaller(intervals, test, tver, opts):\n",
    "\n",
    "    # skip?\n",
    "    if len(OP_TVER_ONLY) and OP_TVER_ONLY != tver:\n",
    "        return None\n",
    "    \n",
    "    # prepare\n",
    "    outFolder = \"%s/%s/%s\" % (OUT, test, tver)\n",
    "    tpref = \"%s/%s-%s\" % (outFolder, test, tver)\n",
    "    vcf = \"%s.vcf\" % tpref\n",
    "    bam = \"%s.bam\" % tpref\n",
    "    os.system(\"mkdir -p \" + outFolder)\n",
    "\n",
    "    # build main command\n",
    "    cmd = \"\"\"\n",
    "            %s HaplotypeCaller -R %s -I %s -intervals %s \\\n",
    "            --likelihood-calculation-engine FlowBased \\\n",
    "            --bam-writer-type ALL_POSSIBLE_HAPLOTYPES --debug-assembly false \\\n",
    "            -O %s \\\n",
    "            --bam-output %s \\\n",
    "            %s \\\n",
    "    \"\"\" % (GATK, REF, READS, intervals, vcf, bam, opts)\n",
    "\n",
    "    # execute it\n",
    "    print(\"Running %s-%s over %s opts %s\" % (test, tver, intervals, opts))\n",
    "    lines = []\n",
    "    print(cmd)\n",
    "    with subprocess.Popen(cmd, stdout=subprocess.PIPE, stderr=subprocess.STDOUT, shell=True) as proc:\n",
    "        for line in io.TextIOWrapper(proc.stdout, encoding=\"utf-8\"):\n",
    "            lines.append(line)\n",
    "            if \"ProgressMeter\" in line:\n",
    "                print(line, end = '')\n",
    "\n",
    "    # analyze vcf\n",
    "    anal_cmd = \"bcftools stats %s  | grep -E '^SN' | cut -f 3-4 | sed 's/number of //g' | sed 's/ /-/g' | sed 's/://g'\" \\\n",
    "                    % vcf\n",
    "    anal = {\"_vcf\": vcf, \"_test\": test, \"_tver\": tver, \"_intervals\": intervals, \"_opts\": opts}\n",
    "    with subprocess.Popen(anal_cmd, stdout=subprocess.PIPE, shell=True) as proc:\n",
    "        for line in io.TextIOWrapper(proc.stdout, encoding=\"utf-8\"):\n",
    "            toks = line.split()\n",
    "            anal[toks[0].lower()] = toks[1]\n",
    "    pprint.pprint(anal)\n",
    "    with io.open(tpref + \"-anal.json\", 'w') as file:\n",
    "        file.write(json.dumps(anal))\n",
    "\n",
    "    return anal\n",
    "\n",
    "# perform a test\n",
    "if OP_ANAL:\n",
    "    HaplotypeCaller(INTERVALS, \"test1\", \"baseline\", \"\")\n",
    "    HaplotypeCaller(INTERVALS, \"test1\", \"baseline12m\", \"--ultima-flow-matrix-mods 10,12,11,12\")\n",
    "    HaplotypeCaller(INTERVALS, \"test1\", \"baseline10m\", \"--ultima-flow-matrix-mods 8,10,9,10,11,10,12,10\")\n",
    "\n",
    "    HaplotypeCaller(INTERVALS, \"test1\", \"collapse12\", \"--ultima-assembly-collapse-hmer-size 12\")\n",
    "    HaplotypeCaller(INTERVALS, \"test1\", \"collapse12m\", \"--ultima-assembly-collapse-hmer-size 12 --ultima-flow-matrix-mods 10,12,11,12\")\n",
    "    \n",
    "    HaplotypeCaller(INTERVALS, \"test1\", \"collapse10\", \"--ultima-assembly-collapse-hmer-size 10\")\n",
    "    HaplotypeCaller(INTERVALS, \"test1\", \"collapse10m\", \"--ultima-assembly-collapse-hmer-size 10 --ultima-flow-matrix-mods 8,10,9,10,11,10,12,10\")\n",
    "\n"
   ]
  },
  {
   "cell_type": "code",
   "execution_count": null,
   "metadata": {},
   "outputs": [],
   "source": []
  },
  {
   "cell_type": "code",
   "execution_count": null,
   "metadata": {},
   "outputs": [],
   "source": []
  }
 ],
 "metadata": {
  "kernelspec": {
   "display_name": "Python 3",
   "language": "python",
   "name": "python3"
  },
  "language_info": {
   "codemirror_mode": {
    "name": "ipython",
    "version": 3
   },
   "file_extension": ".py",
   "mimetype": "text/x-python",
   "name": "python",
   "nbconvert_exporter": "python",
   "pygments_lexer": "ipython3",
   "version": "3.7.6"
  }
 },
 "nbformat": 4,
 "nbformat_minor": 4
}
