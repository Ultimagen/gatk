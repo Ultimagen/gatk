{
 "cells": [
  {
   "cell_type": "markdown",
   "metadata": {},
   "source": [
    "### Identify Long Homopolymer Areas on Fasta"
   ]
  },
  {
   "cell_type": "code",
   "execution_count": 1,
   "metadata": {},
   "outputs": [],
   "source": [
    "def region_toks(region):\n",
    "    return region.replace(\":\", \"\\t\").replace(\"-\", \"\\t\").split(\"\\t\")\n",
    "\n",
    "def region_chr(region):\n",
    "    return region_toks[0]\n",
    "\n",
    "def region_start(region):\n",
    "    return int(region_toks(region)[1])\n",
    "\n",
    "def region_end(region):\n",
    "    return int(region_toks(region)[2])"
   ]
  },
  {
   "cell_type": "code",
   "execution_count": 2,
   "metadata": {},
   "outputs": [],
   "source": [
    "import io\n",
    "import subprocess\n",
    "import re\n",
    "\n",
    "# extract bases \n",
    "def get_bases(ref, region):\n",
    "    cmd = \"bedtools getfasta -fi %s -bed -\" % ref\n",
    "    beddata = \"%s\\t%s\\t%s\\n\" % tuple(region_toks(region))\n",
    "    start = region_start(region)\n",
    "    with subprocess.Popen(cmd, stdout=subprocess.PIPE, stdin=subprocess.PIPE, shell=True) as proc:\n",
    "        stdout = proc.communicate(input=beddata.encode())[0]\n",
    "        bases = stdout.decode().split('\\n')[1].upper()\n",
    "        return (start, bases)\n"
   ]
  },
  {
   "cell_type": "code",
   "execution_count": 3,
   "metadata": {},
   "outputs": [],
   "source": [
    "import re\n",
    "\n",
    "# find homopolymer areas\n",
    "def get_homopolymer_spans(start, bases, hmerSize):\n",
    "    patt = re.compile(\"(T{%d,})|(A{%d,})|(G{%d,})|(C{%d,})\" % (hmerSize + 1, hmerSize + 1, hmerSize + 1, hmerSize + 1))\n",
    "    spans = [(x.span()[0] + start, x.span()[1] + start - 1) for x in re.finditer(patt, bases)]\n",
    "    return spans\n",
    "\n",
    "#spans = get_homopolymer_spans(start, bases, hmerSize)\n",
    "#spans"
   ]
  },
  {
   "cell_type": "markdown",
   "metadata": {},
   "source": [
    "### get alleles from a vcf file"
   ]
  },
  {
   "cell_type": "code",
   "execution_count": 4,
   "metadata": {},
   "outputs": [],
   "source": [
    "def get_vcf_alleles(vcf):\n",
    "    cmd = \"grep -E -v '^#' %s | cut -f 2,4,5\" % vcf\n",
    "    with subprocess.Popen(cmd, stdout=subprocess.PIPE, stdin=subprocess.PIPE, shell=True) as proc:\n",
    "        stdout = proc.communicate(input=\"\".encode())[0]\n",
    "        alleles = [form_allele(x.split(\"\\t\")) for x in stdout.decode().split('\\n')[:-1]]\n",
    "        return alleles\n",
    "\n",
    "def form_allele(a):\n",
    "    start = int(a[0])\n",
    "    length = len(a[1])\n",
    "    return (start, start+length-1, a[1], a[2])"
   ]
  },
  {
   "cell_type": "code",
   "execution_count": 5,
   "metadata": {},
   "outputs": [],
   "source": [
    "def span_complement(span, start, end):\n",
    "    all = sum([list(x) for x in span], [])\n",
    "    comp = []\n",
    "    comp.append((start, all[0] - 1))\n",
    "    it = iter(all[1:-1])\n",
    "    for x in it:\n",
    "        comp.append((x + 1, next(it) - 1))\n",
    "    comp.append((all[-1] + 1, end))\n",
    "    return comp\n",
    "\n",
    "#non_homo_spans = span_complement(homo_spans, region_start(region), region_end(region))\n",
    "#non_homo_spans[0:12]\n"
   ]
  },
  {
   "cell_type": "code",
   "execution_count": 6,
   "metadata": {},
   "outputs": [],
   "source": [
    "import bisect\n",
    "\n",
    "def loc_in_spans(spans, loc):\n",
    "    locs = sum([list(x) for x in spans], [])\n",
    "    return loc_in_flatten_spans(locs, loc)\n",
    "\n",
    "def loc_in_flatten_spans(f_spans, loc):\n",
    "    i = bisect.bisect_left(f_spans, loc)\n",
    "    if i < len(f_spans) and f_spans[i] == loc:\n",
    "        return True\n",
    "    else:\n",
    "        return bool(i & 1)\n",
    "    \n",
    "\n",
    "def alleles_in_spans(spans, alleles):\n",
    "    locs = sum([list(x) for x in spans], [])\n",
    "    return [x for x in alleles if loc_in_flatten_spans(locs, x[0])]\n",
    "    \n",
    "    \n",
    "#print(loc_in_spans(homo_spans, 6484073))"
   ]
  },
  {
   "cell_type": "code",
   "execution_count": 7,
   "metadata": {},
   "outputs": [
    {
     "data": {
      "text/html": [
       "<div>\n",
       "<style scoped>\n",
       "    .dataframe tbody tr th:only-of-type {\n",
       "        vertical-align: middle;\n",
       "    }\n",
       "\n",
       "    .dataframe tbody tr th {\n",
       "        vertical-align: top;\n",
       "    }\n",
       "\n",
       "    .dataframe thead th {\n",
       "        text-align: right;\n",
       "    }\n",
       "</style>\n",
       "<table border=\"1\" class=\"dataframe\">\n",
       "  <thead>\n",
       "    <tr style=\"text-align: right;\">\n",
       "      <th></th>\n",
       "      <th>region</th>\n",
       "      <th>hmerSize</th>\n",
       "      <th>homo_spans</th>\n",
       "      <th>tname</th>\n",
       "      <th>tver</th>\n",
       "      <th>alleles</th>\n",
       "      <th>homo_alleles</th>\n",
       "      <th>non_homo_alleles</th>\n",
       "      <th>snps</th>\n",
       "      <th>indels</th>\n",
       "      <th>opts</th>\n",
       "      <th>homo_alleles_ratio</th>\n",
       "      <th>non_homo_alleles_ratio</th>\n",
       "    </tr>\n",
       "  </thead>\n",
       "  <tbody>\n",
       "    <tr>\n",
       "      <th>0</th>\n",
       "      <td>chr20:6000000-7000000</td>\n",
       "      <td>12</td>\n",
       "      <td>176</td>\n",
       "      <td>test1</td>\n",
       "      <td>baseline</td>\n",
       "      <td>3071</td>\n",
       "      <td>179</td>\n",
       "      <td>2892</td>\n",
       "      <td>1450</td>\n",
       "      <td>1622</td>\n",
       "      <td></td>\n",
       "      <td>1.000000</td>\n",
       "      <td>1.000000</td>\n",
       "    </tr>\n",
       "    <tr>\n",
       "      <th>1</th>\n",
       "      <td>chr20:6000000-7000000</td>\n",
       "      <td>12</td>\n",
       "      <td>176</td>\n",
       "      <td>test1</td>\n",
       "      <td>collapse12m</td>\n",
       "      <td>2882</td>\n",
       "      <td>21</td>\n",
       "      <td>2861</td>\n",
       "      <td>1430</td>\n",
       "      <td>1453</td>\n",
       "      <td>--ultima-assembly-collapse-hmer-size 12 --ulti...</td>\n",
       "      <td>0.117318</td>\n",
       "      <td>0.989281</td>\n",
       "    </tr>\n",
       "    <tr>\n",
       "      <th>2</th>\n",
       "      <td>chr20:6000000-7000000</td>\n",
       "      <td>10</td>\n",
       "      <td>247</td>\n",
       "      <td>test1</td>\n",
       "      <td>baseline</td>\n",
       "      <td>3071</td>\n",
       "      <td>243</td>\n",
       "      <td>2828</td>\n",
       "      <td>1450</td>\n",
       "      <td>1622</td>\n",
       "      <td></td>\n",
       "      <td>1.000000</td>\n",
       "      <td>1.000000</td>\n",
       "    </tr>\n",
       "    <tr>\n",
       "      <th>3</th>\n",
       "      <td>chr20:6000000-7000000</td>\n",
       "      <td>10</td>\n",
       "      <td>247</td>\n",
       "      <td>test1</td>\n",
       "      <td>collapse10m</td>\n",
       "      <td>2835</td>\n",
       "      <td>21</td>\n",
       "      <td>2814</td>\n",
       "      <td>1417</td>\n",
       "      <td>1419</td>\n",
       "      <td>--ultima-assembly-collapse-hmer-size 10 --ulti...</td>\n",
       "      <td>0.086420</td>\n",
       "      <td>0.995050</td>\n",
       "    </tr>\n",
       "  </tbody>\n",
       "</table>\n",
       "</div>"
      ],
      "text/plain": [
       "                  region  hmerSize  homo_spans  tname         tver  alleles  \\\n",
       "0  chr20:6000000-7000000        12         176  test1     baseline     3071   \n",
       "1  chr20:6000000-7000000        12         176  test1  collapse12m     2882   \n",
       "2  chr20:6000000-7000000        10         247  test1     baseline     3071   \n",
       "3  chr20:6000000-7000000        10         247  test1  collapse10m     2835   \n",
       "\n",
       "   homo_alleles  non_homo_alleles  snps  indels  \\\n",
       "0           179              2892  1450    1622   \n",
       "1            21              2861  1430    1453   \n",
       "2           243              2828  1450    1622   \n",
       "3            21              2814  1417    1419   \n",
       "\n",
       "                                                opts  homo_alleles_ratio  \\\n",
       "0                                                               1.000000   \n",
       "1  --ultima-assembly-collapse-hmer-size 12 --ulti...            0.117318   \n",
       "2                                                               1.000000   \n",
       "3  --ultima-assembly-collapse-hmer-size 10 --ulti...            0.086420   \n",
       "\n",
       "   non_homo_alleles_ratio  \n",
       "0                1.000000  \n",
       "1                0.989281  \n",
       "2                1.000000  \n",
       "3                0.995050  "
      ]
     },
     "execution_count": 7,
     "metadata": {},
     "output_type": "execute_result"
    }
   ],
   "source": [
    "import json\n",
    "\n",
    "spans_db = {}\n",
    "def summarize_test(tname, tver, hmerSize, ref, region):\n",
    "\n",
    "    # make sure we have bases\n",
    "    if not ref in spans_db:\n",
    "        spans_db[ref] = {}\n",
    "    if not region in spans_db[ref]:\n",
    "        spans_db[ref][region] = get_bases(ref, region)[1]\n",
    "    \n",
    "    # make sure we have spans\n",
    "    if not hmerSize in spans_db:\n",
    "        spans_db[hmerSize] = {}\n",
    "        spans_db[hmerSize][\"homo_spans\"] = get_homopolymer_spans(region_start(region), spans_db[ref][region], hmerSize)\n",
    "        spans_db[hmerSize][\"non_homo_spans\"] = span_complement(spans_db[hmerSize][\"homo_spans\"], region_start(region), region_end(region))\n",
    "        #print(\"hmerSize %d homo_spans %d\" % (hmerSize, len(spans_db[hmerSize][\"homo_spans\"])))\n",
    "    \n",
    "    # get alleles\n",
    "    vcf = \"output/{0}/{1}/{0}-{1}.vcf\".format(tname, tver)\n",
    "    info = {}\n",
    "    info[\"alleles\"] = get_vcf_alleles(vcf)\n",
    "\n",
    "    # map to homo/non-homo\n",
    "    info[\"homo_alleles\"] = alleles_in_spans(spans_db[hmerSize][\"homo_spans\"], info[\"alleles\"])\n",
    "    info[\"non_homo_alleles\"] = alleles_in_spans(spans_db[hmerSize][\"non_homo_spans\"], info[\"alleles\"])\n",
    "    \n",
    "    info[\"lengths\"] = \"%d alleles %d homo_alleles %d non_homo_alleles\" % (\n",
    "            len(info[\"alleles\"]),\n",
    "            len(info[\"homo_alleles\"]),\n",
    "            len(info[\"non_homo_alleles\"]),\n",
    "        )\n",
    "    \n",
    "    info[\"row\"] = {\n",
    "        \"region\": region,\n",
    "        \"hmerSize\": hmerSize,\n",
    "        \"homo_spans\": len(spans_db[hmerSize][\"homo_spans\"]),\n",
    "        \"tname\": tname,\n",
    "        \"tver\": tver,\n",
    "        \"alleles\": len(info[\"alleles\"]),\n",
    "        \"homo_alleles\": len(info[\"homo_alleles\"]),\n",
    "        \"non_homo_alleles\": len(info[\"non_homo_alleles\"]),\n",
    "    }\n",
    "    \n",
    "    # add anal info\n",
    "    with open(\"output/{0}/{1}/{0}-{1}-anal.json\".format(tname, tver)) as anal_file:\n",
    "        anal = json.load(anal_file)\n",
    "        info[\"row\"][\"snps\"] = int(anal[\"snps\"])\n",
    "        info[\"row\"][\"indels\"] = int(anal[\"indels\"])\n",
    "        info[\"row\"][\"opts\"] = anal[\"_opts\"]\n",
    "    \n",
    "    return info\n",
    "    \n",
    "def check_info(info):\n",
    "    # convert lists of alleles to dictionaries with start as the key\n",
    "    dicts = {}\n",
    "    for name in [\"alleles\", \"homo_alleles\", \"non_homo_alleles\"]:\n",
    "        dicts[name] = {x[0]:x for x in info[name]}\n",
    "        \n",
    "    # make sure home and non_homo are disjoined\n",
    "    h_keys = set(dicts[\"homo_alleles\"].keys())\n",
    "    nh_keys = set(dicts[\"non_homo_alleles\"].keys())\n",
    "    nh_h_keys = h_keys.intersection(nh_keys)\n",
    "    #print(\"h_keys %d nh_keys %d nh_h_keys %d\" % (len(h_keys), len(nh_keys), len(nh_h_keys)))\n",
    "    if len(nh_h_keys):\n",
    "        print(\"ERROR: homo and non_homo sets intersect!\")\n",
    "        print(nh_h_keys)\n",
    "    \n",
    "    # make sure all homo and non_homo are in alleles\n",
    "    a_keys = set(dicts[\"alleles\"].keys())\n",
    "    a_h_keys = a_keys.intersection(h_keys)\n",
    "    #print(\"a_keys %d h_keys %d a_h_keys %d\" % (len(a_keys), len(h_keys), len(a_h_keys)))\n",
    "    if len(h_keys) != len(a_h_keys):\n",
    "        print(\"ERROR: allels and homo sets disjointed!\")\n",
    "    a_nh_keys = a_keys.intersection(nh_keys)\n",
    "    #print(\"a_keys %d nh_keys %d a_nh_keys %d\" % (len(a_keys), len(nh_keys), len(a_nh_keys)))\n",
    "    if len(nh_keys) != len(a_nh_keys):\n",
    "        print(\"ERROR: allels and non-homo sets disjointed!\")\n",
    "    \n",
    "    # make sure homo+non-homo=alleles\n",
    "    diff_keys = a_keys.difference(h_keys.union(nh_keys))\n",
    "    if len(diff_keys):\n",
    "        print(\"ERROR: %d keys missing from homo+non-homo!\" % len(diff_keys))\n",
    "        for key in diff_keys:\n",
    "            print(dicts[\"alleles\"][key])\n",
    "    \n",
    "    \n",
    "    \n",
    "testN = \"test1\"\n",
    "tests = {\n",
    "            testN: [\n",
    "                {\n",
    "                    \"hmerSize\": 12,\n",
    "                    \"region\": \"chr20:6000000-7000000\",\n",
    "                    \"ref\": \"../ref/Homo_sapiens_assembly38.fasta\",\n",
    "                    \"versions\": [\"baseline\", \"collapse12m\"]\n",
    "                },\n",
    "                {\n",
    "                    \"hmerSize\": 10,\n",
    "                    \"region\": \"chr20:6000000-7000000\",\n",
    "                    \"ref\": \"../ref/Homo_sapiens_assembly38.fasta\",\n",
    "                    \"versions\": [\"baseline\", \"collapse10m\"]\n",
    "                }\n",
    "            ],\n",
    "        }\n",
    "\n",
    "spans_db[\"info\"] = {}\n",
    "df_rows = []\n",
    "for tname,tdicts in tests.items():\n",
    "    spans_db[\"info\"][tname] = {}\n",
    "    for tdict in tdicts:\n",
    "        for tver in tdict[\"versions\"]:\n",
    "            hmerSize = tdict[\"hmerSize\"]\n",
    "            if not tver in spans_db[\"info\"][tname]:\n",
    "                spans_db[\"info\"][tname][tver] = {}\n",
    "            info = summarize_test(tname, tver, tdict[\"hmerSize\"], tdict[\"ref\"], tdict[\"region\"])\n",
    "            spans_db[\"info\"][tname][tver][hmerSize] = info\n",
    "            df_rows.append(info[\"row\"])\n",
    "            #print(\"%s-%s: %s\" % (tname, tver, info[\"lengths\"]))\n",
    "            check_info(info)\n",
    "            \n",
    "import pandas as pd\n",
    "info_df = pd.DataFrame(df_rows)\n",
    "info_df\n",
    "\n",
    "# add homo_alleles ratio\n",
    "def calc_homo_alleles_ratio(x, col):\n",
    "    hmerSize = x[\"hmerSize\"]\n",
    "    v = x[col]\n",
    "    base = info_df[info_df[\"hmerSize\"] == hmerSize]\n",
    "    base = base[base[\"tver\"] == \"baseline\"]\n",
    "    base =  base[col].values[0]\n",
    "    return v / base\n",
    "    \n",
    "info_df['homo_alleles_ratio'] = info_df.apply(lambda x: calc_homo_alleles_ratio(x, \"homo_alleles\"), axis=1)\n",
    "info_df['non_homo_alleles_ratio'] = info_df.apply(lambda x: calc_homo_alleles_ratio(x, \"non_homo_alleles\"), axis=1)\n",
    "info_df"
   ]
  },
  {
   "cell_type": "code",
   "execution_count": 8,
   "metadata": {},
   "outputs": [
    {
     "data": {
      "image/png": "[encoded data removed]",
      "text/plain": [
       "<Figure size 432x288 with 1 Axes>"
      ]
     },
     "metadata": {
      "needs_background": "light"
     },
     "output_type": "display_data"
    }
   ],
   "source": [
    "import matplotlib.pyplot as plt\n",
    "\n",
    "info_df.plot(x ='tver', y=['homo_alleles_ratio', 'non_homo_alleles_ratio'], kind = 'bar')\n",
    "plt.show()"
   ]
  },
  {
   "cell_type": "code",
   "execution_count": 9,
   "metadata": {},
   "outputs": [
    {
     "name": "stdout",
     "output_type": "stream",
     "text": [
      "non_homo_alleles:  (12, 'test1', 'baseline') (12, 'test1', 'collapse12m') \n",
      " [2892, 73, 2819, 42, 2861] \n",
      " 0.025 0.015\n",
      "non_homo_alleles:  (10, 'test1', 'baseline') (10, 'test1', 'collapse10m') \n",
      " [2828, 63, 2765, 49, 2814] \n",
      " 0.022 0.017\n"
     ]
    }
   ],
   "source": [
    "import pprint\n",
    "\n",
    "# find alleles delta between two versions (home or non_homo)\n",
    "def get_ver_alleles(v, homo):\n",
    "    col = \"homo_alleles\" if homo else \"non_homo_alleles\" \n",
    "    hmerSize = v[0]\n",
    "    tname = v[1]\n",
    "    tver = v[2]\n",
    "    return spans_db[\"info\"][tname][tver][hmerSize][col]\n",
    "\n",
    "def get_ver_alleles_delta(v1, v2, homo):\n",
    "    a1 = set(get_ver_alleles(v1, homo))\n",
    "    a2 = set(get_ver_alleles(v2, homo))\n",
    "    \n",
    "    d1 = sorted(list(a1.difference(a2)))\n",
    "    d2 = sorted(list(a1.intersection(a2)))\n",
    "    d3 = sorted(list(a2.difference(a1)))\n",
    "    \n",
    "    #pprint.pprint(d1[0:10])\n",
    "    #pprint.pprint(d3[0:10])    \n",
    "    \n",
    "    return (a1, d1, d2, d3, a2)\n",
    "\n",
    "vdiffs = [\n",
    "    ((12, testN, \"baseline\"), (12, testN, \"collapse12m\")),\n",
    "    ((10, testN, \"baseline\"), (10, testN, \"collapse10m\")),\n",
    "]\n",
    "\n",
    "for vdiff in vdiffs:\n",
    "        delta = get_ver_alleles_delta(*vdiff, False)\n",
    "        delta_len = [len(x) for x in delta]\n",
    "        print(\"non_homo_alleles: \", *vdiff, \"\\n\", delta_len, \"\\n\", round(delta_len[1] / delta_len[0], 3), round(delta_len[3] / delta_len[4], 3))\n"
   ]
  },
  {
   "cell_type": "code",
   "execution_count": 10,
   "metadata": {},
   "outputs": [
    {
     "data": {
      "image/png": "[encoded data removed]",
      "text/plain": [
       "<Figure size 432x288 with 1 Axes>"
      ]
     },
     "metadata": {
      "needs_background": "light"
     },
     "output_type": "display_data"
    },
    {
     "data": {
      "image/png": "[encoded data removed]",
      "text/plain": [
       "<Figure size 432x288 with 1 Axes>"
      ]
     },
     "metadata": {
      "needs_background": "light"
     },
     "output_type": "display_data"
    },
    {
     "data": {
      "image/png": "[encoded data removed]",
      "text/plain": [
       "<Figure size 432x288 with 1 Axes>"
      ]
     },
     "metadata": {
      "needs_background": "light"
     },
     "output_type": "display_data"
    },
    {
     "data": {
      "image/png": "[encoded data removed]",
      "text/plain": [
       "<Figure size 432x288 with 1 Axes>"
      ]
     },
     "metadata": {
      "needs_background": "light"
     },
     "output_type": "display_data"
    },
    {
     "data": {
      "image/png": "[encoded data removed]",
      "text/plain": [
       "<Figure size 432x288 with 1 Axes>"
      ]
     },
     "metadata": {
      "needs_background": "light"
     },
     "output_type": "display_data"
    },
    {
     "data": {
      "image/png": "[encoded data removed]",
      "text/plain": [
       "<Figure size 432x288 with 1 Axes>"
      ]
     },
     "metadata": {
      "needs_background": "light"
     },
     "output_type": "display_data"
    }
   ],
   "source": [
    "import numpy as np\n",
    "\n",
    "# plot histogram of lengths of alleles\n",
    "def plot_allele_hist(v, homo):\n",
    "    a = get_ver_alleles(v, homo)\n",
    "    lens = np.array([len(x[2]) for x in a])\n",
    "    plt.hist(lens, bins=np.unique(lens)) \n",
    "    plt.title(str(v) + \" allele %s\" % (\"homo\" if homo else \"none_homo\")) \n",
    "    plt.yscale(\"log\")\n",
    "    plt.show()\n",
    "\n",
    "for homo in [False, True]:\n",
    "    plot_allele_hist((10, testN, \"collapse10m\"), homo)\n",
    "    plot_allele_hist((12, testN, \"collapse12m\"), homo)\n",
    "    plot_allele_hist((12, testN, \"baseline\"), homo)\n"
   ]
  },
  {
   "cell_type": "code",
   "execution_count": null,
   "metadata": {},
   "outputs": [],
   "source": []
  },
  {
   "cell_type": "code",
   "execution_count": null,
   "metadata": {},
   "outputs": [],
   "source": []
  }
 ],
 "metadata": {
  "kernelspec": {
   "display_name": "Python 3",
   "language": "python",
   "name": "python3"
  },
  "language_info": {
   "codemirror_mode": {
    "name": "ipython",
    "version": 3
   },
   "file_extension": ".py",
   "mimetype": "text/x-python",
   "name": "python",
   "nbconvert_exporter": "python",
   "pygments_lexer": "ipython3",
   "version": "3.7.6"
  }
 },
 "nbformat": 4,
 "nbformat_minor": 4
}
