{
 "cells": [
  {
   "cell_type": "markdown",
   "metadata": {},
   "source": [
    "### Identify Long Homopolymer Areas on Fasta"
   ]
  },
  {
   "cell_type": "code",
   "execution_count": 93,
   "metadata": {},
   "outputs": [],
   "source": [
    "def region_toks(region):\n",
    "    return region.replace(\":\", \"\\t\").replace(\"-\", \"\\t\").split(\"\\t\")\n",
    "\n",
    "def region_chr(region):\n",
    "    return region_toks[0]\n",
    "\n",
    "def region_start(region):\n",
    "    return int(region_toks(region)[1])\n",
    "\n",
    "def region_end(region):\n",
    "    return int(region_toks(region)[2])"
   ]
  },
  {
   "cell_type": "code",
   "execution_count": 94,
   "metadata": {},
   "outputs": [],
   "source": [
    "import io\n",
    "import subprocess\n",
    "import re\n",
    "\n",
    "# extract bases \n",
    "def get_bases(ref, region):\n",
    "    cmd = \"bedtools getfasta -fi %s -bed -\" % ref\n",
    "    beddata = \"%s\\t%s\\t%s\\n\" % tuple(region_toks(region))\n",
    "    start = region_start(region)\n",
    "    with subprocess.Popen(cmd, stdout=subprocess.PIPE, stdin=subprocess.PIPE, shell=True) as proc:\n",
    "        stdout = proc.communicate(input=beddata.encode())[0]\n",
    "        bases = stdout.decode().split('\\n')[1].upper()\n",
    "        return (start, bases)\n"
   ]
  },
  {
   "cell_type": "code",
   "execution_count": 95,
   "metadata": {},
   "outputs": [],
   "source": [
    "import re\n",
    "\n",
    "# find homopolymer areas\n",
    "def get_homopolymer_spans(start, bases, hmerSize):\n",
    "    patt = re.compile(\"(T{%d,})|(A{%d,})|(G{%d,})|(C{%d,})\" % (hmerSize + 1, hmerSize + 1, hmerSize + 1, hmerSize + 1))\n",
    "    spans = [(x.span()[0] + start, x.span()[1] + start - 1) for x in re.finditer(patt, bases)]\n",
    "    return spans\n",
    "\n",
    "#spans = get_homopolymer_spans(start, bases, hmerSize)\n",
    "#spans"
   ]
  },
  {
   "cell_type": "markdown",
   "metadata": {},
   "source": [
    "### get alleles from a vcf file"
   ]
  },
  {
   "cell_type": "code",
   "execution_count": 96,
   "metadata": {},
   "outputs": [],
   "source": [
    "def get_vcf_alleles(vcf):\n",
    "    cmd = \"grep -E -v '^#' %s | cut -f 2,4,5\" % vcf\n",
    "    with subprocess.Popen(cmd, stdout=subprocess.PIPE, stdin=subprocess.PIPE, shell=True) as proc:\n",
    "        stdout = proc.communicate(input=\"\".encode())[0]\n",
    "        alleles = [form_allele(x.split(\"\\t\")) for x in stdout.decode().split('\\n')[:-1]]\n",
    "        return alleles\n",
    "\n",
    "def form_allele(a):\n",
    "    start = int(a[0])\n",
    "    length = len(a[1])\n",
    "    return (start, start+length-1, a[1], a[2])"
   ]
  },
  {
   "cell_type": "code",
   "execution_count": 97,
   "metadata": {},
   "outputs": [],
   "source": [
    "def span_complement(span, start, end):\n",
    "    all = sum([list(x) for x in span], [])\n",
    "    comp = []\n",
    "    comp.append((start, all[0] - 1))\n",
    "    it = iter(all[1:-1])\n",
    "    for x in it:\n",
    "        comp.append((x + 1, next(it) - 1))\n",
    "    comp.append((all[-1] + 1, end))\n",
    "    return comp\n",
    "\n",
    "#non_homo_spans = span_complement(homo_spans, region_start(region), region_end(region))\n",
    "#non_homo_spans[0:12]\n"
   ]
  },
  {
   "cell_type": "code",
   "execution_count": 98,
   "metadata": {},
   "outputs": [],
   "source": [
    "import bisect\n",
    "\n",
    "def loc_in_spans(spans, loc):\n",
    "    locs = sum([list(x) for x in spans], [])\n",
    "    return loc_in_flatten_spans(locs, loc)\n",
    "\n",
    "def loc_in_flatten_spans(f_spans, loc):\n",
    "    i = bisect.bisect_left(f_spans, loc)\n",
    "    if i < len(f_spans) and f_spans[i] == loc:\n",
    "        return True\n",
    "    else:\n",
    "        return bool(i & 1)\n",
    "    \n",
    "\n",
    "def alleles_in_spans(spans, alleles):\n",
    "    locs = sum([list(x) for x in spans], [])\n",
    "    return [x for x in alleles if loc_in_flatten_spans(locs, x[0])]\n",
    "    \n",
    "    \n",
    "#print(loc_in_spans(homo_spans, 6484073))"
   ]
  },
  {
   "cell_type": "code",
   "execution_count": 99,
   "metadata": {},
   "outputs": [
    {
     "data": {
      "text/html": [
       "<div>\n",
       "<style scoped>\n",
       "    .dataframe tbody tr th:only-of-type {\n",
       "        vertical-align: middle;\n",
       "    }\n",
       "\n",
       "    .dataframe tbody tr th {\n",
       "        vertical-align: top;\n",
       "    }\n",
       "\n",
       "    .dataframe thead th {\n",
       "        text-align: right;\n",
       "    }\n",
       "</style>\n",
       "<table border=\"1\" class=\"dataframe\">\n",
       "  <thead>\n",
       "    <tr style=\"text-align: right;\">\n",
       "      <th></th>\n",
       "      <th>region</th>\n",
       "      <th>hmerSize</th>\n",
       "      <th>homo_spans</th>\n",
       "      <th>tname</th>\n",
       "      <th>tver</th>\n",
       "      <th>alleles</th>\n",
       "      <th>homo_alleles</th>\n",
       "      <th>non_homo_alleles</th>\n",
       "      <th>snps</th>\n",
       "      <th>indels</th>\n",
       "      <th>opts</th>\n",
       "      <th>homo_alleles_ratio</th>\n",
       "      <th>non_homo_alleles_ratio</th>\n",
       "    </tr>\n",
       "  </thead>\n",
       "  <tbody>\n",
       "    <tr>\n",
       "      <th>0</th>\n",
       "      <td>chr9:6600000-7000000</td>\n",
       "      <td>12</td>\n",
       "      <td>181</td>\n",
       "      <td>test3</td>\n",
       "      <td>baseline</td>\n",
       "      <td>1154</td>\n",
       "      <td>58</td>\n",
       "      <td>1096</td>\n",
       "      <td>905</td>\n",
       "      <td>249</td>\n",
       "      <td></td>\n",
       "      <td>1.000000</td>\n",
       "      <td>1.000000</td>\n",
       "    </tr>\n",
       "    <tr>\n",
       "      <th>1</th>\n",
       "      <td>chr9:6600000-7000000</td>\n",
       "      <td>12</td>\n",
       "      <td>181</td>\n",
       "      <td>test3</td>\n",
       "      <td>collapse12m</td>\n",
       "      <td>1188</td>\n",
       "      <td>20</td>\n",
       "      <td>1168</td>\n",
       "      <td>985</td>\n",
       "      <td>203</td>\n",
       "      <td>--ultima-assembly-collapse-hmer-size 12 --ulti...</td>\n",
       "      <td>0.344828</td>\n",
       "      <td>1.065693</td>\n",
       "    </tr>\n",
       "    <tr>\n",
       "      <th>2</th>\n",
       "      <td>chr9:6600000-7000000</td>\n",
       "      <td>10</td>\n",
       "      <td>237</td>\n",
       "      <td>test3</td>\n",
       "      <td>baseline</td>\n",
       "      <td>1154</td>\n",
       "      <td>71</td>\n",
       "      <td>1083</td>\n",
       "      <td>905</td>\n",
       "      <td>249</td>\n",
       "      <td></td>\n",
       "      <td>1.000000</td>\n",
       "      <td>1.000000</td>\n",
       "    </tr>\n",
       "    <tr>\n",
       "      <th>3</th>\n",
       "      <td>chr9:6600000-7000000</td>\n",
       "      <td>10</td>\n",
       "      <td>237</td>\n",
       "      <td>test3</td>\n",
       "      <td>collapse10m</td>\n",
       "      <td>1096</td>\n",
       "      <td>28</td>\n",
       "      <td>1068</td>\n",
       "      <td>893</td>\n",
       "      <td>203</td>\n",
       "      <td>--ultima-assembly-collapse-hmer-size 10 --ulti...</td>\n",
       "      <td>0.394366</td>\n",
       "      <td>0.986150</td>\n",
       "    </tr>\n",
       "  </tbody>\n",
       "</table>\n",
       "</div>"
      ],
      "text/plain": [
       "                 region  hmerSize  homo_spans  tname         tver  alleles  \\\n",
       "0  chr9:6600000-7000000        12         181  test3     baseline     1154   \n",
       "1  chr9:6600000-7000000        12         181  test3  collapse12m     1188   \n",
       "2  chr9:6600000-7000000        10         237  test3     baseline     1154   \n",
       "3  chr9:6600000-7000000        10         237  test3  collapse10m     1096   \n",
       "\n",
       "   homo_alleles  non_homo_alleles  snps  indels  \\\n",
       "0            58              1096   905     249   \n",
       "1            20              1168   985     203   \n",
       "2            71              1083   905     249   \n",
       "3            28              1068   893     203   \n",
       "\n",
       "                                                opts  homo_alleles_ratio  \\\n",
       "0                                                               1.000000   \n",
       "1  --ultima-assembly-collapse-hmer-size 12 --ulti...            0.344828   \n",
       "2                                                               1.000000   \n",
       "3  --ultima-assembly-collapse-hmer-size 10 --ulti...            0.394366   \n",
       "\n",
       "   non_homo_alleles_ratio  \n",
       "0                1.000000  \n",
       "1                1.065693  \n",
       "2                1.000000  \n",
       "3                0.986150  "
      ]
     },
     "execution_count": 99,
     "metadata": {},
     "output_type": "execute_result"
    }
   ],
   "source": [
    "import json\n",
    "\n",
    "spans_db = {}\n",
    "def summarize_test(tname, tver, hmerSize, ref, region):\n",
    "\n",
    "    # make sure we have bases\n",
    "    if not ref in spans_db:\n",
    "        spans_db[ref] = {}\n",
    "    if not region in spans_db[ref]:\n",
    "        spans_db[ref][region] = get_bases(ref, region)[1]\n",
    "    \n",
    "    # make sure we have spans\n",
    "    if not hmerSize in spans_db:\n",
    "        spans_db[hmerSize] = {}\n",
    "        spans_db[hmerSize][\"homo_spans\"] = get_homopolymer_spans(region_start(region), spans_db[ref][region], hmerSize)\n",
    "        spans_db[hmerSize][\"non_homo_spans\"] = span_complement(spans_db[hmerSize][\"homo_spans\"], region_start(region), region_end(region))\n",
    "        #print(\"hmerSize %d homo_spans %d\" % (hmerSize, len(spans_db[hmerSize][\"homo_spans\"])))\n",
    "    \n",
    "    # get alleles\n",
    "    vcf = \"output/{0}/{1}/{0}-{1}.vcf\".format(tname, tver)\n",
    "    info = {}\n",
    "    info[\"alleles\"] = get_vcf_alleles(vcf)\n",
    "\n",
    "    # map to homo/non-homo\n",
    "    info[\"homo_alleles\"] = alleles_in_spans(spans_db[hmerSize][\"homo_spans\"], info[\"alleles\"])\n",
    "    info[\"non_homo_alleles\"] = alleles_in_spans(spans_db[hmerSize][\"non_homo_spans\"], info[\"alleles\"])\n",
    "    \n",
    "    info[\"lengths\"] = \"%d alleles %d homo_alleles %d non_homo_alleles\" % (\n",
    "            len(info[\"alleles\"]),\n",
    "            len(info[\"homo_alleles\"]),\n",
    "            len(info[\"non_homo_alleles\"]),\n",
    "        )\n",
    "    \n",
    "    info[\"row\"] = {\n",
    "        \"region\": region,\n",
    "        \"hmerSize\": hmerSize,\n",
    "        \"homo_spans\": len(spans_db[hmerSize][\"homo_spans\"]),\n",
    "        \"tname\": tname,\n",
    "        \"tver\": tver,\n",
    "        \"alleles\": len(info[\"alleles\"]),\n",
    "        \"homo_alleles\": len(info[\"homo_alleles\"]),\n",
    "        \"non_homo_alleles\": len(info[\"non_homo_alleles\"]),\n",
    "    }\n",
    "    \n",
    "    # add anal info\n",
    "    with open(\"output/{0}/{1}/{0}-{1}-anal.json\".format(tname, tver)) as anal_file:\n",
    "        anal = json.load(anal_file)\n",
    "        info[\"row\"][\"snps\"] = int(anal[\"snps\"])\n",
    "        info[\"row\"][\"indels\"] = int(anal[\"indels\"])\n",
    "        info[\"row\"][\"opts\"] = anal[\"_opts\"]\n",
    "    \n",
    "    return info\n",
    "    \n",
    "def check_info(info):\n",
    "    # convert lists of alleles to dictionaries with start as the key\n",
    "    dicts = {}\n",
    "    for name in [\"alleles\", \"homo_alleles\", \"non_homo_alleles\"]:\n",
    "        dicts[name] = {x[0]:x for x in info[name]}\n",
    "        \n",
    "    # make sure home and non_homo are disjoined\n",
    "    h_keys = set(dicts[\"homo_alleles\"].keys())\n",
    "    nh_keys = set(dicts[\"non_homo_alleles\"].keys())\n",
    "    nh_h_keys = h_keys.intersection(nh_keys)\n",
    "    #print(\"h_keys %d nh_keys %d nh_h_keys %d\" % (len(h_keys), len(nh_keys), len(nh_h_keys)))\n",
    "    if len(nh_h_keys):\n",
    "        print(\"ERROR: homo and non_homo sets intersect!\")\n",
    "        print(nh_h_keys)\n",
    "    \n",
    "    # make sure all homo and non_homo are in alleles\n",
    "    a_keys = set(dicts[\"alleles\"].keys())\n",
    "    a_h_keys = a_keys.intersection(h_keys)\n",
    "    #print(\"a_keys %d h_keys %d a_h_keys %d\" % (len(a_keys), len(h_keys), len(a_h_keys)))\n",
    "    if len(h_keys) != len(a_h_keys):\n",
    "        print(\"ERROR: allels and homo sets disjointed!\")\n",
    "    a_nh_keys = a_keys.intersection(nh_keys)\n",
    "    #print(\"a_keys %d nh_keys %d a_nh_keys %d\" % (len(a_keys), len(nh_keys), len(a_nh_keys)))\n",
    "    if len(nh_keys) != len(a_nh_keys):\n",
    "        print(\"ERROR: allels and non-homo sets disjointed!\")\n",
    "    \n",
    "    # make sure homo+non-homo=alleles\n",
    "    diff_keys = a_keys.difference(h_keys.union(nh_keys))\n",
    "    if len(diff_keys):\n",
    "        print(\"ERROR: %d keys missing from homo+non-homo!\" % len(diff_keys))\n",
    "        for key in diff_keys:\n",
    "            print(dicts[\"alleles\"][key])\n",
    "    \n",
    "    \n",
    "    \n",
    "testN = \"test3\"\n",
    "tests = {\n",
    "            testN: [\n",
    "                {\n",
    "                    \"hmerSize\": 12,\n",
    "                    \"region\": \"chr9:6600000-7000000\",\n",
    "                    \"ref\": \"../ref/Homo_sapiens_assembly38.fasta\",\n",
    "                    \"versions\": [\"baseline\", \"collapse12m\"]\n",
    "                },\n",
    "                {\n",
    "                    \"hmerSize\": 10,\n",
    "                    \"region\": \"chr9:6600000-7000000\",\n",
    "                    \"ref\": \"../ref/Homo_sapiens_assembly38.fasta\",\n",
    "                    \"versions\": [\"baseline\", \"collapse10m\"]\n",
    "                }\n",
    "            ],\n",
    "        }\n",
    "\n",
    "spans_db[\"info\"] = {}\n",
    "df_rows = []\n",
    "for tname,tdicts in tests.items():\n",
    "    spans_db[\"info\"][tname] = {}\n",
    "    for tdict in tdicts:\n",
    "        for tver in tdict[\"versions\"]:\n",
    "            hmerSize = tdict[\"hmerSize\"]\n",
    "            if not tver in spans_db[\"info\"][tname]:\n",
    "                spans_db[\"info\"][tname][tver] = {}\n",
    "            info = summarize_test(tname, tver, tdict[\"hmerSize\"], tdict[\"ref\"], tdict[\"region\"])\n",
    "            spans_db[\"info\"][tname][tver][hmerSize] = info\n",
    "            df_rows.append(info[\"row\"])\n",
    "            #print(\"%s-%s: %s\" % (tname, tver, info[\"lengths\"]))\n",
    "            check_info(info)\n",
    "            \n",
    "import pandas as pd\n",
    "info_df = pd.DataFrame(df_rows)\n",
    "info_df\n",
    "\n",
    "# add homo_alleles ratio\n",
    "def calc_homo_alleles_ratio(x, col):\n",
    "    hmerSize = x[\"hmerSize\"]\n",
    "    v = x[col]\n",
    "    base = info_df[info_df[\"hmerSize\"] == hmerSize]\n",
    "    base = base[base[\"tver\"] == \"baseline\"]\n",
    "    base =  base[col].values[0]\n",
    "    return v / base\n",
    "    \n",
    "info_df['homo_alleles_ratio'] = info_df.apply(lambda x: calc_homo_alleles_ratio(x, \"homo_alleles\"), axis=1)\n",
    "info_df['non_homo_alleles_ratio'] = info_df.apply(lambda x: calc_homo_alleles_ratio(x, \"non_homo_alleles\"), axis=1)\n",
    "info_df"
   ]
  },
  {
   "cell_type": "code",
   "execution_count": 100,
   "metadata": {},
   "outputs": [
    {
     "name": "stdout",
     "output_type": "stream",
     "text": [
      "non_homo_alleles:  (12, 'test3', 'baseline') (12, 'test3', 'collapse12m') \n",
      " [1096, 37, 1059, 109, 1168] \n",
      " 0.034 0.093\n",
      "non_homo_alleles:  (10, 'test3', 'baseline') (10, 'test3', 'collapse10m') \n",
      " [1083, 35, 1048, 20, 1068] \n",
      " 0.032 0.019\n"
     ]
    }
   ],
   "source": [
    "import pprint\n",
    "\n",
    "# find alleles delta between two versions (home or non_homo)\n",
    "def get_ver_alleles(v, homo):\n",
    "    col = \"homo_alleles\" if homo else \"non_homo_alleles\" \n",
    "    hmerSize = v[0]\n",
    "    tname = v[1]\n",
    "    tver = v[2]\n",
    "    return spans_db[\"info\"][tname][tver][hmerSize][col]\n",
    "\n",
    "def get_ver_alleles_delta(v1, v2, homo):\n",
    "    a1 = set(get_ver_alleles(v1, homo))\n",
    "    a2 = set(get_ver_alleles(v2, homo))\n",
    "    \n",
    "    d1 = sorted(list(a1.difference(a2)))\n",
    "    d2 = sorted(list(a1.intersection(a2)))\n",
    "    d3 = sorted(list(a2.difference(a1)))\n",
    "    \n",
    "    #pprint.pprint(d1[0:10])\n",
    "    #pprint.pprint(d3[0:10])    \n",
    "    \n",
    "    return (a1, d1, d2, d3, a2)\n",
    "\n",
    "vdiffs = [\n",
    "    ((12, testN, \"baseline\"), (12, testN, \"collapse12m\")),\n",
    "    ((10, testN, \"baseline\"), (10, testN, \"collapse10m\")),\n",
    "]\n",
    "\n",
    "for vdiff in vdiffs:\n",
    "        delta = get_ver_alleles_delta(*vdiff, False)\n",
    "        delta_len = [len(x) for x in delta]\n",
    "        print(\"non_homo_alleles: \", *vdiff, \"\\n\", delta_len, \"\\n\", round(delta_len[1] / delta_len[0], 3), round(delta_len[3] / delta_len[4], 3))\n"
   ]
  },
  {
   "cell_type": "code",
   "execution_count": 101,
   "metadata": {},
   "outputs": [
    {
     "data": {
      "image/png": "[encoded data removed]",
      "text/plain": [
       "<Figure size 432x288 with 1 Axes>"
      ]
     },
     "metadata": {
      "needs_background": "light"
     },
     "output_type": "display_data"
    },
    {
     "data": {
      "image/png": "[encoded data removed]",
      "text/plain": [
       "<Figure size 432x288 with 1 Axes>"
      ]
     },
     "metadata": {
      "needs_background": "light"
     },
     "output_type": "display_data"
    },
    {
     "data": {
      "image/png": "[encoded data removed]",
      "text/plain": [
       "<Figure size 432x288 with 1 Axes>"
      ]
     },
     "metadata": {
      "needs_background": "light"
     },
     "output_type": "display_data"
    },
    {
     "data": {
      "image/png": "[encoded data removed]",
      "text/plain": [
       "<Figure size 432x288 with 1 Axes>"
      ]
     },
     "metadata": {
      "needs_background": "light"
     },
     "output_type": "display_data"
    },
    {
     "data": {
      "image/png": "[encoded data removed]",
      "text/plain": [
       "<Figure size 432x288 with 1 Axes>"
      ]
     },
     "metadata": {
      "needs_background": "light"
     },
     "output_type": "display_data"
    },
    {
     "data": {
      "image/png": "[encoded data removed]",
      "text/plain": [
       "<Figure size 432x288 with 1 Axes>"
      ]
     },
     "metadata": {
      "needs_background": "light"
     },
     "output_type": "display_data"
    }
   ],
   "source": [
    "import numpy as np\n",
    "\n",
    "# plot histogram of lengths of alleles\n",
    "def plot_allele_hist(v, homo):\n",
    "    a = get_ver_alleles(v, homo)\n",
    "    lens = np.array([len(x[2]) for x in a])\n",
    "    plt.hist(lens, bins=np.unique(lens)) \n",
    "    plt.title(str(v) + \" allele %s\" % (\"homo\" if homo else \"none_homo\")) \n",
    "    plt.yscale(\"log\")\n",
    "    plt.show()\n",
    "\n",
    "for homo in [False, True]:\n",
    "    plot_allele_hist((10, testN, \"collapse10m\"), homo)\n",
    "    plot_allele_hist((12, testN, \"collapse12m\"), homo)\n",
    "    plot_allele_hist((12, testN, \"baseline\"), homo)\n"
   ]
  },
  {
   "cell_type": "code",
   "execution_count": 102,
   "metadata": {
    "scrolled": true
   },
   "outputs": [
    {
     "data": {
      "image/png": "[encoded data removed]",
      "text/plain": [
       "<Figure size 432x288 with 1 Axes>"
      ]
     },
     "metadata": {
      "needs_background": "light"
     },
     "output_type": "display_data"
    }
   ],
   "source": [
    "import matplotlib.pyplot as plt\n",
    "\n",
    "info_df.plot(x ='tver', y=['homo_alleles_ratio', 'non_homo_alleles_ratio'], kind = 'bar')\n",
    "plt.show()"
   ]
  },
  {
   "cell_type": "code",
   "execution_count": 103,
   "metadata": {},
   "outputs": [
    {
     "data": {
      "text/plain": [
       "[(6606317, 6606330, 'AAAAAAAAAAAAAG', 'A'),\n",
       " (6608267, 6608270, 'AAAC', 'A'),\n",
       " (6619166, 6619166, 'A', 'C'),\n",
       " (6623612, 6623614, 'TAA', 'T'),\n",
       " (6688472, 6688472, 'A', 'G'),\n",
       " (6694019, 6694019, 'T', 'C'),\n",
       " (6702802, 6702802, 'A', 'T'),\n",
       " (6710413, 6710421, 'TTTTTTTGG', 'T'),\n",
       " (6720061, 6720061, 'T', 'A'),\n",
       " (6732374, 6732405, 'AAAAAAAAAAAAAAAAAAAAAAAAAAAAGAAT', 'A'),\n",
       " (6734302, 6734302, 'T', 'G'),\n",
       " (6738779, 6738779, 'T', 'G'),\n",
       " (6748523, 6748523, 'A', 'G'),\n",
       " (6770577, 6770579, 'GTT', 'G'),\n",
       " (6780784, 6780784, 'A', 'C'),\n",
       " (6790665, 6790665, 'A', 'G'),\n",
       " (6790666, 6790666, 'A', 'G'),\n",
       " (6790667, 6790683, 'AAAAAAAAAAAAAAAAG', 'A'),\n",
       " (6795669, 6795669, 'T', 'A'),\n",
       " (6801261, 6801261, 'T', 'A'),\n",
       " (6803757, 6803757, 'A', 'G'),\n",
       " (6826871, 6826871, 'A', 'G'),\n",
       " (6900971, 6900973, 'CTT', 'C'),\n",
       " (6943679, 6943679, 'A', 'C'),\n",
       " (6943680, 6943680, 'A', 'C'),\n",
       " (6944663, 6944663, 'T', 'G'),\n",
       " (6944664, 6944675, 'TTTTTTTTTTTG', 'T'),\n",
       " (6990360, 6990364, 'TTTTG', 'T')]"
      ]
     },
     "execution_count": 103,
     "metadata": {},
     "output_type": "execute_result"
    }
   ],
   "source": [
    "spans_db[\"info\"][\"test3\"][\"collapse10m\"][10][\"homo_alleles\"]"
   ]
  },
  {
   "cell_type": "code",
   "execution_count": null,
   "metadata": {},
   "outputs": [],
   "source": []
  }
 ],
 "metadata": {
  "kernelspec": {
   "display_name": "Python 3",
   "language": "python",
   "name": "python3"
  },
  "language_info": {
   "codemirror_mode": {
    "name": "ipython",
    "version": 3
   },
   "file_extension": ".py",
   "mimetype": "text/x-python",
   "name": "python",
   "nbconvert_exporter": "python",
   "pygments_lexer": "ipython3",
   "version": "3.7.6"
  }
 },
 "nbformat": 4,
 "nbformat_minor": 4
}
